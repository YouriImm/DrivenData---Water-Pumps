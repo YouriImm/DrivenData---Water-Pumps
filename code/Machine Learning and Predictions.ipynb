{
 "cells": [
  {
   "cell_type": "code",
   "execution_count": 15,
   "metadata": {},
   "outputs": [],
   "source": [
    "import numpy as np \n",
    "np.set_printoptions(suppress=True)\n",
    "import pandas as pd\n",
    "import matplotlib.pyplot as plt\n",
    "import seaborn as sns\n",
    "import scikitplot as skplt\n",
    "\n",
    "import geopandas as gpd\n",
    "from shapely.geometry import Point"
   ]
  },
  {
   "cell_type": "code",
   "execution_count": 16,
   "metadata": {},
   "outputs": [],
   "source": [
    "#Read data\n",
    "train_vals = pd.read_csv('../data/edited_train_set.csv')\n",
    "test_vals = pd.read_csv('../data/edited_test_set.csv')\n",
    "\n",
    "#Index\n",
    "train_vals.set_index('id', inplace=True)\n",
    "test_vals.set_index('id', inplace=True)"
   ]
  },
  {
   "cell_type": "markdown",
   "metadata": {},
   "source": [
    "### sklearn setup"
   ]
  },
  {
   "cell_type": "code",
   "execution_count": 17,
   "metadata": {},
   "outputs": [],
   "source": [
    "from sklearn.preprocessing import LabelEncoder\n",
    "from sklearn.model_selection import train_test_split\n",
    "from sklearn.model_selection import GridSearchCV\n",
    "from sklearn.model_selection import ParameterGrid"
   ]
  },
  {
   "cell_type": "markdown",
   "metadata": {},
   "source": [
    "There are many categorical columns in our data, which are currently filled in as strings. We will need to encode those to integers for the model to understand them. "
   ]
  },
  {
   "cell_type": "code",
   "execution_count": 18,
   "metadata": {},
   "outputs": [],
   "source": [
    "#Instantiate\n",
    "le = LabelEncoder()"
   ]
  },
  {
   "cell_type": "code",
   "execution_count": 19,
   "metadata": {},
   "outputs": [],
   "source": [
    "#Grab our target labels and encode\n",
    "y = le.fit_transform(train_vals.status_group)"
   ]
  },
  {
   "cell_type": "code",
   "execution_count": 20,
   "metadata": {},
   "outputs": [],
   "source": [
    "#Remember: 0=func, 1=repair, 2=broken\n",
    "classes = le.classes_"
   ]
  },
  {
   "cell_type": "code",
   "execution_count": 21,
   "metadata": {},
   "outputs": [],
   "source": [
    "#Grab our features\n",
    "x = train_vals.iloc[:, :-1]"
   ]
  },
  {
   "cell_type": "code",
   "execution_count": 22,
   "metadata": {
    "scrolled": true
   },
   "outputs": [],
   "source": [
    "#Encode features\n",
    "for col in x.columns[2:]:\n",
    "    #Pop and constr year aren't categorical:\n",
    "    if (col not in ['gps_height', 'population', 'construction_year']): \n",
    "        #Apply on test_vals for later as well as on our training x\n",
    "        x[col] = le.fit_transform(x[col])\n",
    "        test_vals[col] = le.fit_transform(test_vals[col])"
   ]
  },
  {
   "cell_type": "code",
   "execution_count": 23,
   "metadata": {},
   "outputs": [],
   "source": [
    "#Train-test split\n",
    "X_train, X_test, y_train, y_test = train_test_split(x, y, test_size=0.33, random_state=10)"
   ]
  },
  {
   "cell_type": "markdown",
   "metadata": {},
   "source": [
    "#### Random Forest"
   ]
  },
  {
   "cell_type": "code",
   "execution_count": 24,
   "metadata": {},
   "outputs": [
    {
     "name": "stderr",
     "output_type": "stream",
     "text": [
      "C:\\Users\\youri\\AppData\\Local\\Continuum\\anaconda3\\lib\\site-packages\\sklearn\\ensemble\\weight_boosting.py:29: DeprecationWarning: numpy.core.umath_tests is an internal NumPy module and should not be imported. It will be removed in a future NumPy release.\n",
      "  from numpy.core.umath_tests import inner1d\n"
     ]
    }
   ],
   "source": [
    "from sklearn.ensemble import RandomForestClassifier"
   ]
  },
  {
   "cell_type": "code",
   "execution_count": 25,
   "metadata": {},
   "outputs": [],
   "source": [
    "#Parameter grid for hyperparameter tuning\n",
    "param_grid = {'n_estimators': [250, 500, 750],\n",
    "              'max_depth': [25, 35, 45], \n",
    "             'max_features': ['auto', 'log2', None]}"
   ]
  },
  {
   "cell_type": "code",
   "execution_count": 26,
   "metadata": {},
   "outputs": [],
   "source": [
    "#Build our model - note: this cell takes a while\n",
    "ranfor = GridSearchCV(RandomForestClassifier(n_jobs=-1), param_grid, cv=5,\n",
    "                             return_train_score=True).fit(X_train, y_train)"
   ]
  },
  {
   "cell_type": "code",
   "execution_count": 27,
   "metadata": {},
   "outputs": [
    {
     "name": "stdout",
     "output_type": "stream",
     "text": [
      "{'max_depth': 25, 'max_features': 'log2', 'n_estimators': 500}\n"
     ]
    }
   ],
   "source": [
    "#Best paramaters\n",
    "print(ranfor.best_params_)"
   ]
  },
  {
   "cell_type": "code",
   "execution_count": 28,
   "metadata": {},
   "outputs": [
    {
     "name": "stdout",
     "output_type": "stream",
     "text": [
      "longitude : 0.1073\n",
      "latitude : 0.1017\n",
      "gps_height : 0.0917\n",
      "region : 0.0413\n",
      "basin : 0.0205\n",
      "lga : 0.0401\n",
      "public_meeting : 0.0069\n",
      "scheme_management : 0.0162\n",
      "permit : 0.0118\n",
      "construction_year : 0.1576\n",
      "population : 0.1100\n",
      "extraction_type : 0.0359\n",
      "management : 0.0168\n",
      "payment_type : 0.0327\n",
      "water_quality : 0.0120\n",
      "quantity : 0.1169\n",
      "source : 0.0222\n",
      "waterpoint_type : 0.0584\n"
     ]
    }
   ],
   "source": [
    "#How important is each feature in our model?\n",
    "for i, col in enumerate(X_train.columns):\n",
    "    print(col, \": %.4f\" % ranfor.best_estimator_.feature_importances_[i])"
   ]
  },
  {
   "cell_type": "markdown",
   "metadata": {},
   "source": [
    "Construction year, Longitude and Latitude are comfortably the most important parameters in our model, followed in the distance by quantity and region. "
   ]
  },
  {
   "cell_type": "code",
   "execution_count": 29,
   "metadata": {
    "scrolled": true
   },
   "outputs": [
    {
     "name": "stdout",
     "output_type": "stream",
     "text": [
      "Score on train set: 0.9991\n",
      "Score on test set: 0.8796\n"
     ]
    }
   ],
   "source": [
    "print(\"Score on train set: %.4f\" % ranfor.score(X_train, y_train))\n",
    "print(\"Score on test set: %.4f\" % ranfor.score(X_test, y_test))"
   ]
  },
  {
   "cell_type": "code",
   "execution_count": 30,
   "metadata": {},
   "outputs": [],
   "source": [
    "#Get our label predictions based on the test set we've split off earlier\n",
    "y_pred = ranfor.predict(X_test)"
   ]
  },
  {
   "cell_type": "markdown",
   "metadata": {},
   "source": [
    "### Evaluation"
   ]
  },
  {
   "cell_type": "code",
   "execution_count": 31,
   "metadata": {},
   "outputs": [],
   "source": [
    "from sklearn.metrics import cohen_kappa_score\n",
    "from sklearn.metrics import (classification_report, precision_recall_curve, auc, roc_curve)"
   ]
  },
  {
   "cell_type": "code",
   "execution_count": 32,
   "metadata": {},
   "outputs": [
    {
     "name": "stderr",
     "output_type": "stream",
     "text": [
      "C:\\Users\\youri\\AppData\\Local\\Continuum\\anaconda3\\lib\\site-packages\\matplotlib\\cbook\\deprecation.py:107: MatplotlibDeprecationWarning: Passing one of 'on', 'true', 'off', 'false' as a boolean is deprecated; use an actual boolean (True/False) instead.\n",
      "  warnings.warn(message, mplDeprecation, stacklevel=1)\n"
     ]
    },
    {
     "data": {
      "text/plain": [
       "<matplotlib.axes._subplots.AxesSubplot at 0x281f85a6cf8>"
      ]
     },
     "execution_count": 32,
     "metadata": {},
     "output_type": "execute_result"
    },
    {
     "data": {
      "image/png": "[encoded data removed]",
      "text/plain": [
       "<Figure size 576x576 with 2 Axes>"
      ]
     },
     "metadata": {},
     "output_type": "display_data"
    }
   ],
   "source": [
    "#Confusion Matrix - how many did we get right and wrong?\n",
    "fig, ax = plt.subplots(figsize=(8,8))\n",
    "skplt.metrics.plot_confusion_matrix(y_test, y_pred, ax=ax)"
   ]
  },
  {
   "cell_type": "code",
   "execution_count": 33,
   "metadata": {},
   "outputs": [
    {
     "name": "stdout",
     "output_type": "stream",
     "text": [
      "Total number of predictions: 19602\n",
      "Number of wrong status predictions: 2360\n",
      "Cohen kappa score: 0.7760\n"
     ]
    }
   ],
   "source": [
    "#How many did we get wrong, in total?\n",
    "print(\"Total number of predictions: {}\".format(len(y_pred)))\n",
    "print(\"Number of wrong status predictions: {}\".format(len(y_pred[y_pred != y_test])))\n",
    "#How much does our model outperform randomness?\n",
    "print(\"Cohen kappa score: {:.4f}\".format(cohen_kappa_score(y_test, y_pred)))"
   ]
  },
  {
   "cell_type": "code",
   "execution_count": 34,
   "metadata": {
    "scrolled": false
   },
   "outputs": [
    {
     "name": "stdout",
     "output_type": "stream",
     "text": [
      "             precision    recall  f1-score   support\n",
      "\n",
      "          0       0.88      0.93      0.90     10749\n",
      "          1       0.78      0.57      0.65      1385\n",
      "          2       0.90      0.86      0.88      7468\n",
      "\n",
      "avg / total       0.88      0.88      0.88     19602\n",
      "\n"
     ]
    }
   ],
   "source": [
    "#Classification report: model performance per category\n",
    "print(classification_report(y_test, y_pred))"
   ]
  },
  {
   "cell_type": "markdown",
   "metadata": {},
   "source": [
    "#### Grab predictions on test set"
   ]
  },
  {
   "cell_type": "code",
   "execution_count": 35,
   "metadata": {},
   "outputs": [],
   "source": [
    "new_pred = ranfor.predict(test_vals)"
   ]
  },
  {
   "cell_type": "markdown",
   "metadata": {},
   "source": [
    "### Submission"
   ]
  },
  {
   "cell_type": "code",
   "execution_count": 36,
   "metadata": {},
   "outputs": [],
   "source": [
    "submittable = pd.DataFrame(new_pred, index=test_vals.index)"
   ]
  },
  {
   "cell_type": "code",
   "execution_count": 37,
   "metadata": {},
   "outputs": [],
   "source": [
    "submittable.columns = ['status_group']"
   ]
  },
  {
   "cell_type": "code",
   "execution_count": 38,
   "metadata": {},
   "outputs": [],
   "source": [
    "submittable.status_group.replace({0: classes[0], \n",
    "                                 1: classes[1],\n",
    "                                 2: classes[2]}, inplace=True)"
   ]
  },
  {
   "cell_type": "code",
   "execution_count": 39,
   "metadata": {},
   "outputs": [],
   "source": [
    "submittable.to_csv('../data/my_submission.csv')"
   ]
  }
 ],
 "metadata": {
  "kernelspec": {
   "display_name": "Python 3",
   "language": "python",
   "name": "python3"
  },
  "language_info": {
   "codemirror_mode": {
    "name": "ipython",
    "version": 3
   },
   "file_extension": ".py",
   "mimetype": "text/x-python",
   "name": "python",
   "nbconvert_exporter": "python",
   "pygments_lexer": "ipython3",
   "version": "3.6.6"
  }
 },
 "nbformat": 4,
 "nbformat_minor": 2
}
